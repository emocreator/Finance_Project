{
 "cells": [
  {
   "cell_type": "code",
   "execution_count": 108,
   "metadata": {},
   "outputs": [
    {
     "name": "stdout",
     "output_type": "stream",
     "text": [
      "[*********************100%%**********************]  1 of 1 completed\n",
      "[*********************100%%**********************]  1 of 1 completed\n",
      "[*********************100%%**********************]  1 of 1 completed\n",
      "[*********************100%%**********************]  1 of 1 completed\n",
      "[*********************100%%**********************]  1 of 1 completed\n",
      "[*********************100%%**********************]  1 of 1 completed\n",
      "[*********************100%%**********************]  1 of 1 completed\n",
      "[*********************100%%**********************]  1 of 1 completed\n",
      "[*********************100%%**********************]  1 of 1 completed\n",
      "[*********************100%%**********************]  1 of 1 completed\n",
      "[*********************100%%**********************]  1 of 1 completed\n",
      "[*********************100%%**********************]  1 of 1 completed\n",
      "[*********************100%%**********************]  1 of 1 completed\n",
      "[*********************100%%**********************]  1 of 1 completed\n"
     ]
    }
   ],
   "source": [
    "# Import necessary libraries\n",
    "import yfinance as yf\n",
    "import warnings\n",
    "warnings.filterwarnings('ignore') # Suppress warnings for a cleaner output\n",
    "import pandas as pd\n",
    "import matplotlib.pyplot as plt\n",
    "\n",
    "plt.style.use('seaborn')\n",
    "# List of stock symbols\n",
    "stocks     = [\"AAPL\", \"MSFT\", \"INTC\", \"SPY\", \"^SPX\",\"^VIX\" ,\"GDX\", \"GLD\", \"JPM\",\"JNJ\",\"KO\",\"BA\",\"PG\", \"GC=F\"]\n",
    "\n",
    "# Fetch data from 2010-01-01 to now and store in a DataFrame\n",
    "dataframes = []\n",
    "for stock in stocks:\n",
    "    df     = yf.download(stock, start=\"2010-01-01\")[['Close']]\n",
    "    df.rename(columns={'Close': stock}, inplace=True)\n",
    "    dataframes.append(df)\n",
    "\n",
    "# Merge all dataframes on the 'Date' column\n",
    "data       = pd.concat(dataframes, axis=1)"
   ]
  },
  {
   "cell_type": "code",
   "execution_count": 109,
   "metadata": {},
   "outputs": [],
   "source": [
    "data1 = data.copy()"
   ]
  },
  {
   "cell_type": "code",
   "execution_count": 110,
   "metadata": {},
   "outputs": [
    {
     "data": {
      "text/html": [
       "<div>\n",
       "<style scoped>\n",
       "    .dataframe tbody tr th:only-of-type {\n",
       "        vertical-align: middle;\n",
       "    }\n",
       "\n",
       "    .dataframe tbody tr th {\n",
       "        vertical-align: top;\n",
       "    }\n",
       "\n",
       "    .dataframe thead th {\n",
       "        text-align: right;\n",
       "    }\n",
       "</style>\n",
       "<table border=\"1\" class=\"dataframe\">\n",
       "  <thead>\n",
       "    <tr style=\"text-align: right;\">\n",
       "      <th></th>\n",
       "      <th>AAPL</th>\n",
       "      <th>MSFT</th>\n",
       "      <th>INTC</th>\n",
       "      <th>SPY</th>\n",
       "      <th>^SPX</th>\n",
       "      <th>^VIX</th>\n",
       "      <th>GDX</th>\n",
       "      <th>GLD</th>\n",
       "      <th>JPM</th>\n",
       "      <th>JNJ</th>\n",
       "      <th>KO</th>\n",
       "      <th>BA</th>\n",
       "      <th>PG</th>\n",
       "      <th>GC=F</th>\n",
       "    </tr>\n",
       "    <tr>\n",
       "      <th>Date</th>\n",
       "      <th></th>\n",
       "      <th></th>\n",
       "      <th></th>\n",
       "      <th></th>\n",
       "      <th></th>\n",
       "      <th></th>\n",
       "      <th></th>\n",
       "      <th></th>\n",
       "      <th></th>\n",
       "      <th></th>\n",
       "      <th></th>\n",
       "      <th></th>\n",
       "      <th></th>\n",
       "      <th></th>\n",
       "    </tr>\n",
       "  </thead>\n",
       "  <tbody>\n",
       "    <tr>\n",
       "      <th>2010-01-04</th>\n",
       "      <td>7.643214</td>\n",
       "      <td>30.950001</td>\n",
       "      <td>20.879999</td>\n",
       "      <td>113.330002</td>\n",
       "      <td>1132.989990</td>\n",
       "      <td>20.040001</td>\n",
       "      <td>47.709999</td>\n",
       "      <td>109.800003</td>\n",
       "      <td>42.849998</td>\n",
       "      <td>64.680000</td>\n",
       "      <td>28.520000</td>\n",
       "      <td>56.180000</td>\n",
       "      <td>61.119999</td>\n",
       "      <td>1117.699951</td>\n",
       "    </tr>\n",
       "    <tr>\n",
       "      <th>2010-01-05</th>\n",
       "      <td>7.656429</td>\n",
       "      <td>30.959999</td>\n",
       "      <td>20.870001</td>\n",
       "      <td>113.629997</td>\n",
       "      <td>1136.520020</td>\n",
       "      <td>19.350000</td>\n",
       "      <td>48.169998</td>\n",
       "      <td>109.699997</td>\n",
       "      <td>43.680000</td>\n",
       "      <td>63.930000</td>\n",
       "      <td>28.174999</td>\n",
       "      <td>58.020000</td>\n",
       "      <td>61.139999</td>\n",
       "      <td>1118.099976</td>\n",
       "    </tr>\n",
       "    <tr>\n",
       "      <th>2010-01-06</th>\n",
       "      <td>7.534643</td>\n",
       "      <td>30.770000</td>\n",
       "      <td>20.799999</td>\n",
       "      <td>113.709999</td>\n",
       "      <td>1137.140015</td>\n",
       "      <td>19.160000</td>\n",
       "      <td>49.340000</td>\n",
       "      <td>111.510002</td>\n",
       "      <td>43.919998</td>\n",
       "      <td>64.449997</td>\n",
       "      <td>28.165001</td>\n",
       "      <td>59.779999</td>\n",
       "      <td>60.849998</td>\n",
       "      <td>1135.900024</td>\n",
       "    </tr>\n",
       "    <tr>\n",
       "      <th>2010-01-07</th>\n",
       "      <td>7.520714</td>\n",
       "      <td>30.450001</td>\n",
       "      <td>20.600000</td>\n",
       "      <td>114.190002</td>\n",
       "      <td>1141.689941</td>\n",
       "      <td>19.059999</td>\n",
       "      <td>49.099998</td>\n",
       "      <td>110.820000</td>\n",
       "      <td>44.790001</td>\n",
       "      <td>63.990002</td>\n",
       "      <td>28.094999</td>\n",
       "      <td>62.200001</td>\n",
       "      <td>60.520000</td>\n",
       "      <td>1133.099976</td>\n",
       "    </tr>\n",
       "    <tr>\n",
       "      <th>2010-01-08</th>\n",
       "      <td>7.570714</td>\n",
       "      <td>30.660000</td>\n",
       "      <td>20.830000</td>\n",
       "      <td>114.570000</td>\n",
       "      <td>1144.979980</td>\n",
       "      <td>18.129999</td>\n",
       "      <td>49.840000</td>\n",
       "      <td>111.370003</td>\n",
       "      <td>44.680000</td>\n",
       "      <td>64.209999</td>\n",
       "      <td>27.575001</td>\n",
       "      <td>61.599998</td>\n",
       "      <td>60.439999</td>\n",
       "      <td>1138.199951</td>\n",
       "    </tr>\n",
       "  </tbody>\n",
       "</table>\n",
       "</div>"
      ],
      "text/plain": [
       "                AAPL       MSFT       INTC         SPY         ^SPX  \\\n",
       "Date                                                                  \n",
       "2010-01-04  7.643214  30.950001  20.879999  113.330002  1132.989990   \n",
       "2010-01-05  7.656429  30.959999  20.870001  113.629997  1136.520020   \n",
       "2010-01-06  7.534643  30.770000  20.799999  113.709999  1137.140015   \n",
       "2010-01-07  7.520714  30.450001  20.600000  114.190002  1141.689941   \n",
       "2010-01-08  7.570714  30.660000  20.830000  114.570000  1144.979980   \n",
       "\n",
       "                 ^VIX        GDX         GLD        JPM        JNJ         KO  \\\n",
       "Date                                                                            \n",
       "2010-01-04  20.040001  47.709999  109.800003  42.849998  64.680000  28.520000   \n",
       "2010-01-05  19.350000  48.169998  109.699997  43.680000  63.930000  28.174999   \n",
       "2010-01-06  19.160000  49.340000  111.510002  43.919998  64.449997  28.165001   \n",
       "2010-01-07  19.059999  49.099998  110.820000  44.790001  63.990002  28.094999   \n",
       "2010-01-08  18.129999  49.840000  111.370003  44.680000  64.209999  27.575001   \n",
       "\n",
       "                   BA         PG         GC=F  \n",
       "Date                                           \n",
       "2010-01-04  56.180000  61.119999  1117.699951  \n",
       "2010-01-05  58.020000  61.139999  1118.099976  \n",
       "2010-01-06  59.779999  60.849998  1135.900024  \n",
       "2010-01-07  62.200001  60.520000  1133.099976  \n",
       "2010-01-08  61.599998  60.439999  1138.199951  "
      ]
     },
     "execution_count": 110,
     "metadata": {},
     "output_type": "execute_result"
    }
   ],
   "source": [
    "data.head()"
   ]
  },
  {
   "cell_type": "code",
   "execution_count": 111,
   "metadata": {},
   "outputs": [
    {
     "name": "stdout",
     "output_type": "stream",
     "text": [
      "<class 'pandas.core.frame.DataFrame'>\n",
      "DatetimeIndex: 3457 entries, 2010-01-04 to 2023-09-27\n",
      "Data columns (total 14 columns):\n",
      " #   Column  Non-Null Count  Dtype  \n",
      "---  ------  --------------  -----  \n",
      " 0   AAPL    3457 non-null   float64\n",
      " 1   MSFT    3457 non-null   float64\n",
      " 2   INTC    3457 non-null   float64\n",
      " 3   SPY     3457 non-null   float64\n",
      " 4   ^SPX    3457 non-null   float64\n",
      " 5   ^VIX    3457 non-null   float64\n",
      " 6   GDX     3457 non-null   float64\n",
      " 7   GLD     3457 non-null   float64\n",
      " 8   JPM     3457 non-null   float64\n",
      " 9   JNJ     3457 non-null   float64\n",
      " 10  KO      3457 non-null   float64\n",
      " 11  BA      3457 non-null   float64\n",
      " 12  PG      3457 non-null   float64\n",
      " 13  GC=F    3454 non-null   float64\n",
      "dtypes: float64(14)\n",
      "memory usage: 405.1 KB\n"
     ]
    }
   ],
   "source": [
    "data.info()"
   ]
  },
  {
   "cell_type": "code",
   "execution_count": 112,
   "metadata": {},
   "outputs": [],
   "source": [
    "symb= 'AAPL'\n",
    "data = data[[symb]].dropna()"
   ]
  },
  {
   "cell_type": "code",
   "execution_count": 113,
   "metadata": {},
   "outputs": [],
   "source": [
    "SMA1=42\n",
    "SMA2=252"
   ]
  },
  {
   "cell_type": "code",
   "execution_count": 114,
   "metadata": {},
   "outputs": [],
   "source": [
    "data['SMA1'] = data[symb].rolling(SMA1).mean()"
   ]
  },
  {
   "cell_type": "code",
   "execution_count": 115,
   "metadata": {},
   "outputs": [],
   "source": [
    "data['SMA2'] = data[symb].rolling(SMA2).mean()"
   ]
  },
  {
   "cell_type": "code",
   "execution_count": 116,
   "metadata": {},
   "outputs": [
    {
     "data": {
      "text/html": [
       "<div>\n",
       "<style scoped>\n",
       "    .dataframe tbody tr th:only-of-type {\n",
       "        vertical-align: middle;\n",
       "    }\n",
       "\n",
       "    .dataframe tbody tr th {\n",
       "        vertical-align: top;\n",
       "    }\n",
       "\n",
       "    .dataframe thead th {\n",
       "        text-align: right;\n",
       "    }\n",
       "</style>\n",
       "<table border=\"1\" class=\"dataframe\">\n",
       "  <thead>\n",
       "    <tr style=\"text-align: right;\">\n",
       "      <th></th>\n",
       "      <th>AAPL</th>\n",
       "      <th>SMA1</th>\n",
       "      <th>SMA2</th>\n",
       "    </tr>\n",
       "    <tr>\n",
       "      <th>Date</th>\n",
       "      <th></th>\n",
       "      <th></th>\n",
       "      <th></th>\n",
       "    </tr>\n",
       "  </thead>\n",
       "  <tbody>\n",
       "    <tr>\n",
       "      <th>2023-09-21</th>\n",
       "      <td>173.929993</td>\n",
       "      <td>181.986667</td>\n",
       "      <td>161.361428</td>\n",
       "    </tr>\n",
       "    <tr>\n",
       "      <th>2023-09-22</th>\n",
       "      <td>174.789993</td>\n",
       "      <td>181.538334</td>\n",
       "      <td>161.445040</td>\n",
       "    </tr>\n",
       "    <tr>\n",
       "      <th>2023-09-25</th>\n",
       "      <td>176.080002</td>\n",
       "      <td>181.099762</td>\n",
       "      <td>161.537659</td>\n",
       "    </tr>\n",
       "    <tr>\n",
       "      <th>2023-09-26</th>\n",
       "      <td>171.960007</td>\n",
       "      <td>180.593572</td>\n",
       "      <td>161.623095</td>\n",
       "    </tr>\n",
       "    <tr>\n",
       "      <th>2023-09-27</th>\n",
       "      <td>170.429993</td>\n",
       "      <td>179.988810</td>\n",
       "      <td>161.701111</td>\n",
       "    </tr>\n",
       "  </tbody>\n",
       "</table>\n",
       "</div>"
      ],
      "text/plain": [
       "                  AAPL        SMA1        SMA2\n",
       "Date                                          \n",
       "2023-09-21  173.929993  181.986667  161.361428\n",
       "2023-09-22  174.789993  181.538334  161.445040\n",
       "2023-09-25  176.080002  181.099762  161.537659\n",
       "2023-09-26  171.960007  180.593572  161.623095\n",
       "2023-09-27  170.429993  179.988810  161.701111"
      ]
     },
     "execution_count": 116,
     "metadata": {},
     "output_type": "execute_result"
    }
   ],
   "source": [
    "data.tail()"
   ]
  },
  {
   "cell_type": "code",
   "execution_count": 117,
   "metadata": {},
   "outputs": [
    {
     "data": {
      "text/plain": [
       "<Axes: xlabel='Date'>"
      ]
     },
     "execution_count": 117,
     "metadata": {},
     "output_type": "execute_result"
    },
    {
     "data": {
      "image/png": "[encoded data removed]",
      "text/plain": [
       "<Figure size 800x550 with 1 Axes>"
      ]
     },
     "metadata": {},
     "output_type": "display_data"
    }
   ],
   "source": [
    "data.plot()"
   ]
  },
  {
   "cell_type": "code",
   "execution_count": 118,
   "metadata": {},
   "outputs": [],
   "source": [
    "data.dropna(inplace=True)"
   ]
  },
  {
   "cell_type": "code",
   "execution_count": 119,
   "metadata": {},
   "outputs": [],
   "source": [
    "import numpy as np"
   ]
  },
  {
   "cell_type": "code",
   "execution_count": 120,
   "metadata": {},
   "outputs": [],
   "source": [
    "data['Position']= np.where(data['SMA1']>data['SMA2'],1,-1)"
   ]
  },
  {
   "cell_type": "code",
   "execution_count": 121,
   "metadata": {},
   "outputs": [
    {
     "data": {
      "text/plain": [
       "<Axes: xlabel='Date'>"
      ]
     },
     "execution_count": 121,
     "metadata": {},
     "output_type": "execute_result"
    },
    {
     "data": {
      "image/png": "[encoded data removed]",
      "text/plain": [
       "<Figure size 800x550 with 2 Axes>"
      ]
     },
     "metadata": {},
     "output_type": "display_data"
    }
   ],
   "source": [
    "data.plot(secondary_y='Position')"
   ]
  },
  {
   "cell_type": "code",
   "execution_count": 122,
   "metadata": {},
   "outputs": [],
   "source": [
    "data['Returns'] = np.log(data[symb]/data[symb].shift(1))"
   ]
  },
  {
   "cell_type": "code",
   "execution_count": 123,
   "metadata": {},
   "outputs": [
    {
     "data": {
      "text/html": [
       "<div>\n",
       "<style scoped>\n",
       "    .dataframe tbody tr th:only-of-type {\n",
       "        vertical-align: middle;\n",
       "    }\n",
       "\n",
       "    .dataframe tbody tr th {\n",
       "        vertical-align: top;\n",
       "    }\n",
       "\n",
       "    .dataframe thead th {\n",
       "        text-align: right;\n",
       "    }\n",
       "</style>\n",
       "<table border=\"1\" class=\"dataframe\">\n",
       "  <thead>\n",
       "    <tr style=\"text-align: right;\">\n",
       "      <th></th>\n",
       "      <th>AAPL</th>\n",
       "      <th>SMA1</th>\n",
       "      <th>SMA2</th>\n",
       "      <th>Position</th>\n",
       "      <th>Returns</th>\n",
       "    </tr>\n",
       "    <tr>\n",
       "      <th>Date</th>\n",
       "      <th></th>\n",
       "      <th></th>\n",
       "      <th></th>\n",
       "      <th></th>\n",
       "      <th></th>\n",
       "    </tr>\n",
       "  </thead>\n",
       "  <tbody>\n",
       "    <tr>\n",
       "      <th>2010-12-31</th>\n",
       "      <td>11.520000</td>\n",
       "      <td>11.319609</td>\n",
       "      <td>9.280088</td>\n",
       "      <td>1</td>\n",
       "      <td>NaN</td>\n",
       "    </tr>\n",
       "    <tr>\n",
       "      <th>2011-01-03</th>\n",
       "      <td>11.770357</td>\n",
       "      <td>11.336794</td>\n",
       "      <td>9.296465</td>\n",
       "      <td>1</td>\n",
       "      <td>0.021500</td>\n",
       "    </tr>\n",
       "    <tr>\n",
       "      <th>2011-01-04</th>\n",
       "      <td>11.831786</td>\n",
       "      <td>11.352517</td>\n",
       "      <td>9.313034</td>\n",
       "      <td>1</td>\n",
       "      <td>0.005205</td>\n",
       "    </tr>\n",
       "    <tr>\n",
       "      <th>2011-01-05</th>\n",
       "      <td>11.928571</td>\n",
       "      <td>11.365893</td>\n",
       "      <td>9.330471</td>\n",
       "      <td>1</td>\n",
       "      <td>0.008147</td>\n",
       "    </tr>\n",
       "    <tr>\n",
       "      <th>2011-01-06</th>\n",
       "      <td>11.918929</td>\n",
       "      <td>11.380009</td>\n",
       "      <td>9.347924</td>\n",
       "      <td>1</td>\n",
       "      <td>-0.000809</td>\n",
       "    </tr>\n",
       "  </tbody>\n",
       "</table>\n",
       "</div>"
      ],
      "text/plain": [
       "                 AAPL       SMA1      SMA2  Position   Returns\n",
       "Date                                                          \n",
       "2010-12-31  11.520000  11.319609  9.280088         1       NaN\n",
       "2011-01-03  11.770357  11.336794  9.296465         1  0.021500\n",
       "2011-01-04  11.831786  11.352517  9.313034         1  0.005205\n",
       "2011-01-05  11.928571  11.365893  9.330471         1  0.008147\n",
       "2011-01-06  11.918929  11.380009  9.347924         1 -0.000809"
      ]
     },
     "execution_count": 123,
     "metadata": {},
     "output_type": "execute_result"
    }
   ],
   "source": [
    "data.head()"
   ]
  },
  {
   "cell_type": "code",
   "execution_count": 124,
   "metadata": {},
   "outputs": [],
   "source": [
    "data['Strategy'] = data['Position'].shift(1)*data['Returns']"
   ]
  },
  {
   "cell_type": "code",
   "execution_count": 125,
   "metadata": {},
   "outputs": [
    {
     "data": {
      "text/html": [
       "<div>\n",
       "<style scoped>\n",
       "    .dataframe tbody tr th:only-of-type {\n",
       "        vertical-align: middle;\n",
       "    }\n",
       "\n",
       "    .dataframe tbody tr th {\n",
       "        vertical-align: top;\n",
       "    }\n",
       "\n",
       "    .dataframe thead th {\n",
       "        text-align: right;\n",
       "    }\n",
       "</style>\n",
       "<table border=\"1\" class=\"dataframe\">\n",
       "  <thead>\n",
       "    <tr style=\"text-align: right;\">\n",
       "      <th></th>\n",
       "      <th>AAPL</th>\n",
       "      <th>SMA1</th>\n",
       "      <th>SMA2</th>\n",
       "      <th>Position</th>\n",
       "      <th>Returns</th>\n",
       "      <th>Strategy</th>\n",
       "    </tr>\n",
       "    <tr>\n",
       "      <th>Date</th>\n",
       "      <th></th>\n",
       "      <th></th>\n",
       "      <th></th>\n",
       "      <th></th>\n",
       "      <th></th>\n",
       "      <th></th>\n",
       "    </tr>\n",
       "  </thead>\n",
       "  <tbody>\n",
       "    <tr>\n",
       "      <th>2010-12-31</th>\n",
       "      <td>11.520000</td>\n",
       "      <td>11.319609</td>\n",
       "      <td>9.280088</td>\n",
       "      <td>1</td>\n",
       "      <td>NaN</td>\n",
       "      <td>NaN</td>\n",
       "    </tr>\n",
       "    <tr>\n",
       "      <th>2011-01-03</th>\n",
       "      <td>11.770357</td>\n",
       "      <td>11.336794</td>\n",
       "      <td>9.296465</td>\n",
       "      <td>1</td>\n",
       "      <td>0.021500</td>\n",
       "      <td>0.021500</td>\n",
       "    </tr>\n",
       "    <tr>\n",
       "      <th>2011-01-04</th>\n",
       "      <td>11.831786</td>\n",
       "      <td>11.352517</td>\n",
       "      <td>9.313034</td>\n",
       "      <td>1</td>\n",
       "      <td>0.005205</td>\n",
       "      <td>0.005205</td>\n",
       "    </tr>\n",
       "    <tr>\n",
       "      <th>2011-01-05</th>\n",
       "      <td>11.928571</td>\n",
       "      <td>11.365893</td>\n",
       "      <td>9.330471</td>\n",
       "      <td>1</td>\n",
       "      <td>0.008147</td>\n",
       "      <td>0.008147</td>\n",
       "    </tr>\n",
       "    <tr>\n",
       "      <th>2011-01-06</th>\n",
       "      <td>11.918929</td>\n",
       "      <td>11.380009</td>\n",
       "      <td>9.347924</td>\n",
       "      <td>1</td>\n",
       "      <td>-0.000809</td>\n",
       "      <td>-0.000809</td>\n",
       "    </tr>\n",
       "  </tbody>\n",
       "</table>\n",
       "</div>"
      ],
      "text/plain": [
       "                 AAPL       SMA1      SMA2  Position   Returns  Strategy\n",
       "Date                                                                    \n",
       "2010-12-31  11.520000  11.319609  9.280088         1       NaN       NaN\n",
       "2011-01-03  11.770357  11.336794  9.296465         1  0.021500  0.021500\n",
       "2011-01-04  11.831786  11.352517  9.313034         1  0.005205  0.005205\n",
       "2011-01-05  11.928571  11.365893  9.330471         1  0.008147  0.008147\n",
       "2011-01-06  11.918929  11.380009  9.347924         1 -0.000809 -0.000809"
      ]
     },
     "execution_count": 125,
     "metadata": {},
     "output_type": "execute_result"
    }
   ],
   "source": [
    "data.head()"
   ]
  },
  {
   "cell_type": "code",
   "execution_count": 126,
   "metadata": {},
   "outputs": [],
   "source": [
    "data.dropna(inplace=True)"
   ]
  },
  {
   "cell_type": "code",
   "execution_count": 127,
   "metadata": {},
   "outputs": [
    {
     "data": {
      "text/plain": [
       "Returns     14.794270\n",
       "Strategy     8.503547\n",
       "dtype: float64"
      ]
     },
     "execution_count": 127,
     "metadata": {},
     "output_type": "execute_result"
    }
   ],
   "source": [
    "np.exp(data[['Returns', 'Strategy']].sum())"
   ]
  },
  {
   "cell_type": "code",
   "execution_count": 128,
   "metadata": {},
   "outputs": [],
   "source": [
    "from itertools import product"
   ]
  },
  {
   "cell_type": "code",
   "execution_count": 129,
   "metadata": {},
   "outputs": [],
   "source": [
    "sma1=range(20,61,4)\n",
    "sma2=range(180,281,10)"
   ]
  },
  {
   "cell_type": "code",
   "execution_count": 130,
   "metadata": {},
   "outputs": [],
   "source": [
    "results              = pd.DataFrame()\n",
    "for SMA1, SMA2 in product(sma1,sma2):\n",
    "    data1             = pd.DataFrame(data1[symb])\n",
    "\n",
    "    data1.dropna(inplace=True)\n",
    "    data1['Returns']  = np.log(data1[symb]/data1[symb].shift(1))\n",
    "    data1['SMA1']     = data1[symb].rolling(SMA1).mean()\n",
    "    data1['SMA2']     = data1[symb].rolling(SMA2).mean()\n",
    "\n",
    "    data1.dropna(inplace=True)\n",
    "    data1['Position'] = np.where(data1['SMA1']>data1['SMA2'],1,-1)\n",
    "    data1['Strategy'] = data1['Position'].shift(1)*data1['Returns']\n",
    "\n",
    "    data1.dropna(inplace=True)\n",
    "\n",
    "    pref             = np.exp(data1[['Returns','Strategy']].sum())\n",
    "    df_to_append     = pd.DataFrame({'SMA1': SMA1, 'SMA2': SMA2, 'Returns': pref['Returns'], 'Strategy': pref['Strategy'], 'Out': pref['Strategy']-pref['Returns']}, index=[0])\n",
    "    results          = pd.concat([results, df_to_append], ignore_index=True)\n"
   ]
  },
  {
   "cell_type": "code",
   "execution_count": 132,
   "metadata": {},
   "outputs": [
    {
     "data": {
      "text/html": [
       "<div>\n",
       "<style scoped>\n",
       "    .dataframe tbody tr th:only-of-type {\n",
       "        vertical-align: middle;\n",
       "    }\n",
       "\n",
       "    .dataframe tbody tr th {\n",
       "        vertical-align: top;\n",
       "    }\n",
       "\n",
       "    .dataframe thead th {\n",
       "        text-align: right;\n",
       "    }\n",
       "</style>\n",
       "<table border=\"1\" class=\"dataframe\">\n",
       "  <thead>\n",
       "    <tr style=\"text-align: right;\">\n",
       "      <th></th>\n",
       "      <th>SMA1</th>\n",
       "      <th>SMA2</th>\n",
       "      <th>Returns</th>\n",
       "      <th>Strategy</th>\n",
       "      <th>Out</th>\n",
       "    </tr>\n",
       "  </thead>\n",
       "  <tbody>\n",
       "    <tr>\n",
       "      <th>0</th>\n",
       "      <td>20</td>\n",
       "      <td>180</td>\n",
       "      <td>16.848638</td>\n",
       "      <td>5.103845</td>\n",
       "      <td>-11.744793</td>\n",
       "    </tr>\n",
       "    <tr>\n",
       "      <th>1</th>\n",
       "      <td>20</td>\n",
       "      <td>190</td>\n",
       "      <td>14.669658</td>\n",
       "      <td>4.827608</td>\n",
       "      <td>-9.842050</td>\n",
       "    </tr>\n",
       "    <tr>\n",
       "      <th>2</th>\n",
       "      <td>20</td>\n",
       "      <td>200</td>\n",
       "      <td>7.530677</td>\n",
       "      <td>3.642525</td>\n",
       "      <td>-3.888152</td>\n",
       "    </tr>\n",
       "    <tr>\n",
       "      <th>3</th>\n",
       "      <td>20</td>\n",
       "      <td>210</td>\n",
       "      <td>10.191875</td>\n",
       "      <td>4.489268</td>\n",
       "      <td>-5.702607</td>\n",
       "    </tr>\n",
       "    <tr>\n",
       "      <th>4</th>\n",
       "      <td>20</td>\n",
       "      <td>220</td>\n",
       "      <td>8.691924</td>\n",
       "      <td>4.726002</td>\n",
       "      <td>-3.965921</td>\n",
       "    </tr>\n",
       "    <tr>\n",
       "      <th>5</th>\n",
       "      <td>20</td>\n",
       "      <td>230</td>\n",
       "      <td>5.945060</td>\n",
       "      <td>3.379534</td>\n",
       "      <td>-2.565526</td>\n",
       "    </tr>\n",
       "    <tr>\n",
       "      <th>6</th>\n",
       "      <td>20</td>\n",
       "      <td>240</td>\n",
       "      <td>5.561883</td>\n",
       "      <td>3.418960</td>\n",
       "      <td>-2.142923</td>\n",
       "    </tr>\n",
       "    <tr>\n",
       "      <th>7</th>\n",
       "      <td>20</td>\n",
       "      <td>250</td>\n",
       "      <td>6.004227</td>\n",
       "      <td>2.926222</td>\n",
       "      <td>-3.078005</td>\n",
       "    </tr>\n",
       "    <tr>\n",
       "      <th>8</th>\n",
       "      <td>20</td>\n",
       "      <td>260</td>\n",
       "      <td>3.902902</td>\n",
       "      <td>1.810872</td>\n",
       "      <td>-2.092030</td>\n",
       "    </tr>\n",
       "    <tr>\n",
       "      <th>9</th>\n",
       "      <td>20</td>\n",
       "      <td>270</td>\n",
       "      <td>4.019575</td>\n",
       "      <td>1.538996</td>\n",
       "      <td>-2.480580</td>\n",
       "    </tr>\n",
       "  </tbody>\n",
       "</table>\n",
       "</div>"
      ],
      "text/plain": [
       "   SMA1  SMA2    Returns  Strategy        Out\n",
       "0    20   180  16.848638  5.103845 -11.744793\n",
       "1    20   190  14.669658  4.827608  -9.842050\n",
       "2    20   200   7.530677  3.642525  -3.888152\n",
       "3    20   210  10.191875  4.489268  -5.702607\n",
       "4    20   220   8.691924  4.726002  -3.965921\n",
       "5    20   230   5.945060  3.379534  -2.565526\n",
       "6    20   240   5.561883  3.418960  -2.142923\n",
       "7    20   250   6.004227  2.926222  -3.078005\n",
       "8    20   260   3.902902  1.810872  -2.092030\n",
       "9    20   270   4.019575  1.538996  -2.480580"
      ]
     },
     "execution_count": 132,
     "metadata": {},
     "output_type": "execute_result"
    }
   ],
   "source": [
    "results.head(10)"
   ]
  },
  {
   "cell_type": "code",
   "execution_count": null,
   "metadata": {},
   "outputs": [],
   "source": []
  }
 ],
 "metadata": {
  "kernelspec": {
   "display_name": "ml",
   "language": "python",
   "name": "python3"
  },
  "language_info": {
   "codemirror_mode": {
    "name": "ipython",
    "version": 3
   },
   "file_extension": ".py",
   "mimetype": "text/x-python",
   "name": "python",
   "nbconvert_exporter": "python",
   "pygments_lexer": "ipython3",
   "version": "3.9.18"
  },
  "orig_nbformat": 4
 },
 "nbformat": 4,
 "nbformat_minor": 2
}
