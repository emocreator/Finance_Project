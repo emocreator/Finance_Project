{
 "cells": [
  {
   "cell_type": "code",
   "execution_count": null,
   "metadata": {},
   "outputs": [
    {
     "ename": "",
     "evalue": "",
     "output_type": "error",
     "traceback": [
      "\u001b[1;31mFailed to start the Kernel. \n",
      "\u001b[1;31mUnable to start Kernel 'ml (Python 3.9.18)' due to a timeout waiting for the ports to get used. \n",
      "\u001b[1;31mView Jupyter <a href='command:jupyter.viewOutput'>log</a> for further details."
     ]
    }
   ],
   "source": [
    "import datetime as dt\n",
    "import matplotlib.pyplot as plt \n",
    "import yfinance as yf\n",
    "from enum import Enum"
   ]
  },
  {
   "cell_type": "code",
   "execution_count": null,
   "metadata": {},
   "outputs": [],
   "source": [
    "class order(Enum):\n",
    "    BUY = 1\n",
    "    SELL = -1\n",
    "    HOLD = 0"
   ]
  },
  {
   "cell_type": "code",
   "execution_count": null,
   "metadata": {},
   "outputs": [],
   "source": [
    "ma_1 = 50\n",
    "ma_2 = 200\n",
    "\n",
    "start = dt.datetime.now() - dt.timedelta(days = 365*5)\n",
    "end = dt.datetime.now()\n",
    "\n",
    "stock_ticker = 'AAPL'\n",
    "\n",
    "data = yf.download(stock_ticker,start , end)\n",
    "print (data)"
   ]
  },
  {
   "cell_type": "code",
   "execution_count": null,
   "metadata": {},
   "outputs": [],
   "source": [
    "data[f'SMA_{ma_1}'] = data['Adj Close'].rolling(window = ma_1).mean()\n",
    "data[f'SMA_{ma_2}'] = data['Adj Close'].rolling(window = ma_2).mean()\n",
    "data = data.iloc[ma_2:]"
   ]
  },
  {
   "cell_type": "code",
   "execution_count": null,
   "metadata": {},
   "outputs": [],
   "source": [
    "buy_signals = []\n",
    "sell_signals = []\n",
    "trigger = order.HOLD\n",
    "\n",
    "for x in range(len(data)):\n",
    "    if data[f'SMA_{ma_1}'].iloc[x] > data[f'SMA_{ma_2}'].iloc[x] and trigger != order.BUY :\n",
    "        buy_signals.append(data['Adj Close'].iloc[x])\n",
    "        sell_signals.append(float('nan'))\n",
    "        trigger = order.BUY\n",
    "    elif data[f'SMA_{ma_1}'].iloc[x] < data[f'SMA_{ma_2}'].iloc[x] and trigger != order.SELL :\n",
    "        buy_signals.append(float('nan'))\n",
    "        sell_signals.append(data['Adj Close'].iloc[x])\n",
    "        trigger = order.SELL\n",
    "    else:\n",
    "        buy_signals.append(float('nan'))\n",
    "        sell_signals.append(float('nan'))"
   ]
  },
  {
   "cell_type": "code",
   "execution_count": null,
   "metadata": {},
   "outputs": [],
   "source": [
    "data['Buy Signals'] = buy_signals\n",
    "data['Sell Signals'] = sell_signals\n",
    "\n",
    "print(data)\n"
   ]
  },
  {
   "cell_type": "code",
   "execution_count": null,
   "metadata": {},
   "outputs": [],
   "source": [
    "plt.plot(data['Adj Close'], label = \"Share Price\" , alpha = 0.5)\n",
    "plt.plot(data[f'SMA_{ma_1}'],label = f\"SMA {ma_1}\",color = \"red\",linestyle = \"--\")\n",
    "plt.plot(data[f'SMA_{ma_2}'],label = f\"SMA {ma_2}\",color = \"blue\",linestyle = \"--\")\n",
    "plt.scatter(data.index,data['Buy Signals'],label = \"Buy Signal\", marker=\"^\", color = \"green\", lw= 3)\n",
    "plt.scatter(data.index,data['Sell Signals'],label = \"Sell Signal\", marker=\"v\", color = \"red\", lw= 3)\n",
    "plt.legend(loc = \"upper left\")\n",
    "plt.show()"
   ]
  }
 ],
 "metadata": {
  "kernelspec": {
   "display_name": "base",
   "language": "python",
   "name": "python3"
  },
  "language_info": {
   "name": "python",
   "version": "3.9.18"
  },
  "orig_nbformat": 4
 },
 "nbformat": 4,
 "nbformat_minor": 2
}
