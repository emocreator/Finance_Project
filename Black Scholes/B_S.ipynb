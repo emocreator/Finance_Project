{
 "cells": [
  {
   "cell_type": "code",
   "execution_count": null,
   "metadata": {},
   "outputs": [],
   "source": [
    "import numpy as np\n",
    "from scipy.stats import norm"
   ]
  },
  {
   "cell_type": "code",
   "execution_count": null,
   "metadata": {},
   "outputs": [],
   "source": [
    "def black_scholes_calc(S0, K, r, T, sigma, option_type):\n",
    "    '''This function calculates the value of the European option based on Black-Scholes formula'''\n",
    "\n",
    "    # 1) determine N(d1) and N(d2)\n",
    "    \n",
    "    d1 = 1/(sigma*np.sqrt(T)) * (np.log(S0/K) + (r+sigma**2/2)*T)\n",
    "    d2 = d1 - sigma*np.sqrt(T)\n",
    "    nd1 = norm.cdf(d1)\n",
    "    nd2 = norm.cdf(d2)\n",
    "    n_d1 = norm.cdf(-d1)\n",
    "    n_d2 = norm.cdf(-d2)\n",
    "    \n",
    "    # 2) determine call value\n",
    "    c = nd1*S0 - nd2*K*np.exp(-r*T\n",
    "    \n",
    "    # 3) determine put value\n",
    "    p = K*np.exp(-r*T)*n_d2 - S0*n_d1\n",
    "    \n",
    "    # 4) define which value to return based on the option_type parameter\n",
    "    if option_type=='call':\n",
    "        return c\n",
    "    elif option_type=='put':\n",
    "        return p\n",
    "    else:\n",
    "        print('Wrong option type specified')"
   ]
  },
  {
   "cell_type": "code",
   "execution_count": null,
   "metadata": {},
   "outputs": [],
   "source": [
    "S0=8.; K=9.; r=.01; T=3/12.; sigma=.2\n",
    "black_scholes_calc(S0, K, r, T, sigma, 'put')"
   ]
  }
 ],
 "metadata": {
  "language_info": {
   "name": "python"
  },
  "orig_nbformat": 4
 },
 "nbformat": 4,
 "nbformat_minor": 2
}
