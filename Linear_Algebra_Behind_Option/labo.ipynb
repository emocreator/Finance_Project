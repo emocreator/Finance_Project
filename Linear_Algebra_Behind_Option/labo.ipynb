{
 "cells": [
  {
   "cell_type": "code",
   "execution_count": null,
   "metadata": {},
   "outputs": [],
   "source": [
    "import numpy as np"
   ]
  },
  {
   "cell_type": "code",
   "execution_count": null,
   "metadata": {},
   "outputs": [],
   "source": [
    "def binomial_european_call(S0, K, T, r, sigma, q, N):\n",
    "    \"\"\"European call price based on an N-step binomial tree\"\"\"\n",
    "    \n",
    "    # Calculate time step\n",
    "    deltaT = T / float(N)\n",
    "\n",
    "    # Calculate up and down factors\n",
    "    u = np.exp(sigma*np.sqrt(deltaT))\n",
    "    d = 1.0 / u\n",
    "\n",
    "    # Calculate risk-neutral probability\n",
    "    p = (np.exp((r-q)*deltaT)-d) / (u-d)\n",
    "\n",
    "    # probabilities * discounting factors\n",
    "    # Calculate risk-neutral discount factors\n",
    "    piu = np.exp(-(r-q)*deltaT) * p\n",
    "    pid = np.exp(-(r-q)*deltaT) * (1-p)\n",
    "\n",
    "    #Create price matrix \n",
    "    C = np.zeros((N+1, N+1))\n",
    "    S = np.zeros((N+1, N+1))\n",
    "\n",
    "    # Populate price matrix \n",
    "    for i in range(N+1):\n",
    "        for j in range(i, N+1):\n",
    "            S[i, j] = S0 * u**(j-i) * d**(i)\n",
    "    S = np.triu(S)\n",
    "\n",
    "    # Add payoffs at maturity\n",
    "    C[:, N] = np.maximum(0, S[:, N]-K)\n",
    "\n",
    "    # Work backwards to calculate option value at each node\n",
    "    for j in range(N-1, -1, -1):\n",
    "        C[:j+1, j] = piu * C[:j+1, j+1] + pid * C[1:j+2, j+1] \n",
    "\n",
    "    # Return initial call option value\n",
    "    return[0,0]"
   ]
  },
  {
   "cell_type": "code",
   "execution_count": null,
   "metadata": {},
   "outputs": [],
   "source": [
    "def binomial_american_call(S0, K, T, r, sigma, q, N):\n",
    "    deltaT = T / N\n",
    "    u = np.exp(sigma * np.sqrt(deltaT)) \n",
    "    d = 1.0 / u\n",
    "    p = (np.exp((r-q)*deltaT) - d) / (u - d)\n",
    "\n",
    "    piu = np.exp(-r * deltaT) * p\n",
    "    pid = np.exp(-r * deltaT) * (1-p)\n",
    "\n",
    "    C = np.zeros((N+1, N+1))\n",
    "    S = np.zeros((N+1, N+1))\n",
    "\n",
    "    for i in range(N+1):\n",
    "        for j in range(i+1):\n",
    "            S[i,j] = S0 * u**(j) * d**(i-j)\n",
    "\n",
    "    C[:, N] = np.maximum(S[:, N] - K, 0)  \n",
    "\n",
    "    for j in range(N-1, -1, -1):\n",
    "        C[:-1, j] = np.maximum(S[:-1, j] - K, \n",
    "                        piu * C[:-1, j+1] + pid * C[1:, j+1])\n",
    "    \n",
    "        C[-1, j] = np.maximum(S[-1, j] - K, \n",
    "                            piu * C[-1, j+1])\n",
    "                        \n",
    "    return C[0, 0]"
   ]
  }
 ],
 "metadata": {
  "language_info": {
   "name": "python"
  },
  "orig_nbformat": 4
 },
 "nbformat": 4,
 "nbformat_minor": 2
}
